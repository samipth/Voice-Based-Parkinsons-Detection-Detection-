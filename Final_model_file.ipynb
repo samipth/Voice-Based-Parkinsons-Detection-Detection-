{
 "cells": [
  {
   "cell_type": "code",
   "execution_count": 1,
   "id": "a902f3e9",
   "metadata": {},
   "outputs": [],
   "source": [
    "import numpy as np\n",
    "import pandas as pd\n",
    "import os, sys\n",
    "import seaborn as sns\n",
    "import matplotlib.pyplot as plt\n",
    "from sklearn.preprocessing import MinMaxScaler\n",
    "from xgboost import XGBClassifier\n",
    "from sklearn.model_selection import train_test_split\n",
    "from sklearn.metrics import accuracy_score\n",
    "\n",
    "import glob\n",
    "\n",
    "import parselmouth\n",
    "\n",
    "from parselmouth.praat import call\n",
    "from sklearn.decomposition import PCA\n",
    "from sklearn.preprocessing import StandardScaler"
   ]
  },
  {
   "cell_type": "code",
   "execution_count": 2,
   "id": "829af065",
   "metadata": {},
   "outputs": [
    {
     "data": {
      "text/html": [
       "<div>\n",
       "<style scoped>\n",
       "    .dataframe tbody tr th:only-of-type {\n",
       "        vertical-align: middle;\n",
       "    }\n",
       "\n",
       "    .dataframe tbody tr th {\n",
       "        vertical-align: top;\n",
       "    }\n",
       "\n",
       "    .dataframe thead th {\n",
       "        text-align: right;\n",
       "    }\n",
       "</style>\n",
       "<table border=\"1\" class=\"dataframe\">\n",
       "  <thead>\n",
       "    <tr style=\"text-align: right;\">\n",
       "      <th></th>\n",
       "      <th>Subject_ID</th>\n",
       "      <th>localJitter</th>\n",
       "      <th>localabsoluteJitter</th>\n",
       "      <th>rapJitter</th>\n",
       "      <th>ppq5Jitter</th>\n",
       "      <th>ddpJitter</th>\n",
       "      <th>localShimmer</th>\n",
       "      <th>localdbShimmer</th>\n",
       "      <th>apq3Shimmer</th>\n",
       "      <th>aqpq5Shimmer</th>\n",
       "      <th>...</th>\n",
       "      <th>Maximum Pitch</th>\n",
       "      <th>Number of Pulses</th>\n",
       "      <th>Number of Periods</th>\n",
       "      <th>Mean Period</th>\n",
       "      <th>Standard Deviation of Period</th>\n",
       "      <th>Fraction of Locally Unvoiced Frames</th>\n",
       "      <th>Number of Voice Breaks</th>\n",
       "      <th>Degree of Voice Breaks</th>\n",
       "      <th>UPDRS</th>\n",
       "      <th>Class_Information</th>\n",
       "    </tr>\n",
       "  </thead>\n",
       "  <tbody>\n",
       "    <tr>\n",
       "      <th>0</th>\n",
       "      <td>1</td>\n",
       "      <td>1.488</td>\n",
       "      <td>0.000090</td>\n",
       "      <td>0.900</td>\n",
       "      <td>0.794</td>\n",
       "      <td>2.699</td>\n",
       "      <td>8.334</td>\n",
       "      <td>0.779</td>\n",
       "      <td>4.517</td>\n",
       "      <td>4.609</td>\n",
       "      <td>...</td>\n",
       "      <td>187.576</td>\n",
       "      <td>160</td>\n",
       "      <td>159</td>\n",
       "      <td>0.006065</td>\n",
       "      <td>0.000416</td>\n",
       "      <td>0.000</td>\n",
       "      <td>0</td>\n",
       "      <td>0.200</td>\n",
       "      <td>23</td>\n",
       "      <td>1</td>\n",
       "    </tr>\n",
       "    <tr>\n",
       "      <th>1</th>\n",
       "      <td>1</td>\n",
       "      <td>0.728</td>\n",
       "      <td>0.000038</td>\n",
       "      <td>0.353</td>\n",
       "      <td>0.376</td>\n",
       "      <td>1.059</td>\n",
       "      <td>5.864</td>\n",
       "      <td>0.642</td>\n",
       "      <td>2.058</td>\n",
       "      <td>3.180</td>\n",
       "      <td>...</td>\n",
       "      <td>234.505</td>\n",
       "      <td>170</td>\n",
       "      <td>169</td>\n",
       "      <td>0.005181</td>\n",
       "      <td>0.000403</td>\n",
       "      <td>2.247</td>\n",
       "      <td>0</td>\n",
       "      <td>0.000</td>\n",
       "      <td>23</td>\n",
       "      <td>1</td>\n",
       "    </tr>\n",
       "    <tr>\n",
       "      <th>2</th>\n",
       "      <td>1</td>\n",
       "      <td>1.220</td>\n",
       "      <td>0.000074</td>\n",
       "      <td>0.732</td>\n",
       "      <td>0.670</td>\n",
       "      <td>2.196</td>\n",
       "      <td>8.719</td>\n",
       "      <td>0.875</td>\n",
       "      <td>4.347</td>\n",
       "      <td>5.166</td>\n",
       "      <td>...</td>\n",
       "      <td>211.442</td>\n",
       "      <td>1431</td>\n",
       "      <td>1427</td>\n",
       "      <td>0.006071</td>\n",
       "      <td>0.000474</td>\n",
       "      <td>10.656</td>\n",
       "      <td>1</td>\n",
       "      <td>0.178</td>\n",
       "      <td>23</td>\n",
       "      <td>1</td>\n",
       "    </tr>\n",
       "    <tr>\n",
       "      <th>3</th>\n",
       "      <td>1</td>\n",
       "      <td>2.502</td>\n",
       "      <td>0.000123</td>\n",
       "      <td>1.156</td>\n",
       "      <td>1.634</td>\n",
       "      <td>3.469</td>\n",
       "      <td>13.513</td>\n",
       "      <td>1.273</td>\n",
       "      <td>5.263</td>\n",
       "      <td>8.771</td>\n",
       "      <td>...</td>\n",
       "      <td>220.230</td>\n",
       "      <td>94</td>\n",
       "      <td>92</td>\n",
       "      <td>0.004910</td>\n",
       "      <td>0.000320</td>\n",
       "      <td>0.000</td>\n",
       "      <td>0</td>\n",
       "      <td>0.000</td>\n",
       "      <td>23</td>\n",
       "      <td>1</td>\n",
       "    </tr>\n",
       "    <tr>\n",
       "      <th>4</th>\n",
       "      <td>1</td>\n",
       "      <td>3.509</td>\n",
       "      <td>0.000167</td>\n",
       "      <td>1.715</td>\n",
       "      <td>1.539</td>\n",
       "      <td>5.145</td>\n",
       "      <td>9.112</td>\n",
       "      <td>1.040</td>\n",
       "      <td>3.102</td>\n",
       "      <td>4.927</td>\n",
       "      <td>...</td>\n",
       "      <td>225.162</td>\n",
       "      <td>117</td>\n",
       "      <td>114</td>\n",
       "      <td>0.004757</td>\n",
       "      <td>0.000380</td>\n",
       "      <td>18.182</td>\n",
       "      <td>1</td>\n",
       "      <td>13.318</td>\n",
       "      <td>23</td>\n",
       "      <td>1</td>\n",
       "    </tr>\n",
       "  </tbody>\n",
       "</table>\n",
       "<p>5 rows × 29 columns</p>\n",
       "</div>"
      ],
      "text/plain": [
       "   Subject_ID  localJitter  localabsoluteJitter  rapJitter  ppq5Jitter  \\\n",
       "0           1        1.488             0.000090      0.900       0.794   \n",
       "1           1        0.728             0.000038      0.353       0.376   \n",
       "2           1        1.220             0.000074      0.732       0.670   \n",
       "3           1        2.502             0.000123      1.156       1.634   \n",
       "4           1        3.509             0.000167      1.715       1.539   \n",
       "\n",
       "   ddpJitter  localShimmer  localdbShimmer  apq3Shimmer  aqpq5Shimmer  ...  \\\n",
       "0      2.699         8.334           0.779        4.517         4.609  ...   \n",
       "1      1.059         5.864           0.642        2.058         3.180  ...   \n",
       "2      2.196         8.719           0.875        4.347         5.166  ...   \n",
       "3      3.469        13.513           1.273        5.263         8.771  ...   \n",
       "4      5.145         9.112           1.040        3.102         4.927  ...   \n",
       "\n",
       "   Maximum Pitch  Number of Pulses  Number of Periods  Mean Period  \\\n",
       "0        187.576               160                159     0.006065   \n",
       "1        234.505               170                169     0.005181   \n",
       "2        211.442              1431               1427     0.006071   \n",
       "3        220.230                94                 92     0.004910   \n",
       "4        225.162               117                114     0.004757   \n",
       "\n",
       "   Standard Deviation of Period  Fraction of Locally Unvoiced Frames  \\\n",
       "0                      0.000416                                0.000   \n",
       "1                      0.000403                                2.247   \n",
       "2                      0.000474                               10.656   \n",
       "3                      0.000320                                0.000   \n",
       "4                      0.000380                               18.182   \n",
       "\n",
       "   Number of Voice Breaks  Degree of Voice Breaks  UPDRS  Class_Information  \n",
       "0                       0                   0.200     23                  1  \n",
       "1                       0                   0.000     23                  1  \n",
       "2                       1                   0.178     23                  1  \n",
       "3                       0                   0.000     23                  1  \n",
       "4                       1                  13.318     23                  1  \n",
       "\n",
       "[5 rows x 29 columns]"
      ]
     },
     "execution_count": 2,
     "metadata": {},
     "output_type": "execute_result"
    }
   ],
   "source": [
    "data = pd.read_csv(r'C:\\Users\\ASUS\\Downloads\\Detection of parkinsons disease using voice\\New_train_data.csv')\n",
    "\n",
    "data.head()"
   ]
  },
  {
   "cell_type": "code",
   "execution_count": 3,
   "id": "035c5a83",
   "metadata": {},
   "outputs": [],
   "source": [
    "data1=data.drop(['UPDRS', 'Subject_ID','Number of Pulses','Number of Periods','Fraction of Locally Unvoiced Frames','Median Pitch','Number of Voice Breaks','Degree of Voice Breaks','AC','Minimun Pitch','Maximum Pitch','Mean Period','Standard Deviation of Period','NTH'],axis=1)"
   ]
  },
  {
   "cell_type": "code",
   "execution_count": 4,
   "id": "e8cdfe81",
   "metadata": {},
   "outputs": [
    {
     "data": {
      "text/html": [
       "<div>\n",
       "<style scoped>\n",
       "    .dataframe tbody tr th:only-of-type {\n",
       "        vertical-align: middle;\n",
       "    }\n",
       "\n",
       "    .dataframe tbody tr th {\n",
       "        vertical-align: top;\n",
       "    }\n",
       "\n",
       "    .dataframe thead th {\n",
       "        text-align: right;\n",
       "    }\n",
       "</style>\n",
       "<table border=\"1\" class=\"dataframe\">\n",
       "  <thead>\n",
       "    <tr style=\"text-align: right;\">\n",
       "      <th></th>\n",
       "      <th>localJitter</th>\n",
       "      <th>localabsoluteJitter</th>\n",
       "      <th>rapJitter</th>\n",
       "      <th>ppq5Jitter</th>\n",
       "      <th>ddpJitter</th>\n",
       "      <th>localShimmer</th>\n",
       "      <th>localdbShimmer</th>\n",
       "      <th>apq3Shimmer</th>\n",
       "      <th>aqpq5Shimmer</th>\n",
       "      <th>apq11Shimmer</th>\n",
       "      <th>ddaShimmer</th>\n",
       "      <th>hnr</th>\n",
       "      <th>meanF0</th>\n",
       "      <th>stdevF0</th>\n",
       "      <th>Class_Information</th>\n",
       "    </tr>\n",
       "  </thead>\n",
       "  <tbody>\n",
       "    <tr>\n",
       "      <th>0</th>\n",
       "      <td>1.488</td>\n",
       "      <td>0.000090</td>\n",
       "      <td>0.900</td>\n",
       "      <td>0.794</td>\n",
       "      <td>2.699</td>\n",
       "      <td>8.334</td>\n",
       "      <td>0.779</td>\n",
       "      <td>4.517</td>\n",
       "      <td>4.609</td>\n",
       "      <td>6.802</td>\n",
       "      <td>13.551</td>\n",
       "      <td>11.130</td>\n",
       "      <td>164.781</td>\n",
       "      <td>10.421</td>\n",
       "      <td>1</td>\n",
       "    </tr>\n",
       "    <tr>\n",
       "      <th>1</th>\n",
       "      <td>0.728</td>\n",
       "      <td>0.000038</td>\n",
       "      <td>0.353</td>\n",
       "      <td>0.376</td>\n",
       "      <td>1.059</td>\n",
       "      <td>5.864</td>\n",
       "      <td>0.642</td>\n",
       "      <td>2.058</td>\n",
       "      <td>3.180</td>\n",
       "      <td>7.194</td>\n",
       "      <td>6.175</td>\n",
       "      <td>17.403</td>\n",
       "      <td>193.289</td>\n",
       "      <td>14.773</td>\n",
       "      <td>1</td>\n",
       "    </tr>\n",
       "    <tr>\n",
       "      <th>2</th>\n",
       "      <td>1.220</td>\n",
       "      <td>0.000074</td>\n",
       "      <td>0.732</td>\n",
       "      <td>0.670</td>\n",
       "      <td>2.196</td>\n",
       "      <td>8.719</td>\n",
       "      <td>0.875</td>\n",
       "      <td>4.347</td>\n",
       "      <td>5.166</td>\n",
       "      <td>7.548</td>\n",
       "      <td>13.040</td>\n",
       "      <td>12.212</td>\n",
       "      <td>164.768</td>\n",
       "      <td>12.981</td>\n",
       "      <td>1</td>\n",
       "    </tr>\n",
       "    <tr>\n",
       "      <th>3</th>\n",
       "      <td>2.502</td>\n",
       "      <td>0.000123</td>\n",
       "      <td>1.156</td>\n",
       "      <td>1.634</td>\n",
       "      <td>3.469</td>\n",
       "      <td>13.513</td>\n",
       "      <td>1.273</td>\n",
       "      <td>5.263</td>\n",
       "      <td>8.771</td>\n",
       "      <td>16.779</td>\n",
       "      <td>15.789</td>\n",
       "      <td>11.384</td>\n",
       "      <td>203.471</td>\n",
       "      <td>10.853</td>\n",
       "      <td>1</td>\n",
       "    </tr>\n",
       "    <tr>\n",
       "      <th>4</th>\n",
       "      <td>3.509</td>\n",
       "      <td>0.000167</td>\n",
       "      <td>1.715</td>\n",
       "      <td>1.539</td>\n",
       "      <td>5.145</td>\n",
       "      <td>9.112</td>\n",
       "      <td>1.040</td>\n",
       "      <td>3.102</td>\n",
       "      <td>4.927</td>\n",
       "      <td>12.823</td>\n",
       "      <td>9.307</td>\n",
       "      <td>10.653</td>\n",
       "      <td>208.440</td>\n",
       "      <td>11.499</td>\n",
       "      <td>1</td>\n",
       "    </tr>\n",
       "  </tbody>\n",
       "</table>\n",
       "</div>"
      ],
      "text/plain": [
       "   localJitter  localabsoluteJitter  rapJitter  ppq5Jitter  ddpJitter  \\\n",
       "0        1.488             0.000090      0.900       0.794      2.699   \n",
       "1        0.728             0.000038      0.353       0.376      1.059   \n",
       "2        1.220             0.000074      0.732       0.670      2.196   \n",
       "3        2.502             0.000123      1.156       1.634      3.469   \n",
       "4        3.509             0.000167      1.715       1.539      5.145   \n",
       "\n",
       "   localShimmer  localdbShimmer  apq3Shimmer  aqpq5Shimmer  apq11Shimmer  \\\n",
       "0         8.334           0.779        4.517         4.609         6.802   \n",
       "1         5.864           0.642        2.058         3.180         7.194   \n",
       "2         8.719           0.875        4.347         5.166         7.548   \n",
       "3        13.513           1.273        5.263         8.771        16.779   \n",
       "4         9.112           1.040        3.102         4.927        12.823   \n",
       "\n",
       "   ddaShimmer     hnr   meanF0  stdevF0  Class_Information  \n",
       "0      13.551  11.130  164.781   10.421                  1  \n",
       "1       6.175  17.403  193.289   14.773                  1  \n",
       "2      13.040  12.212  164.768   12.981                  1  \n",
       "3      15.789  11.384  203.471   10.853                  1  \n",
       "4       9.307  10.653  208.440   11.499                  1  "
      ]
     },
     "execution_count": 4,
     "metadata": {},
     "output_type": "execute_result"
    }
   ],
   "source": [
    "data1.head()"
   ]
  },
  {
   "cell_type": "code",
   "execution_count": 5,
   "id": "40da5420",
   "metadata": {},
   "outputs": [],
   "source": [
    "#data1.to_csv(r'C:\\Users\\ASUS\\Downloads\\processed_results.csv', index=False)"
   ]
  },
  {
   "cell_type": "code",
   "execution_count": 6,
   "id": "af0f1db9",
   "metadata": {},
   "outputs": [
    {
     "data": {
      "text/plain": [
       "localJitter            0\n",
       "localabsoluteJitter    0\n",
       "rapJitter              0\n",
       "ppq5Jitter             0\n",
       "ddpJitter              0\n",
       "localShimmer           0\n",
       "localdbShimmer         0\n",
       "apq3Shimmer            0\n",
       "aqpq5Shimmer           0\n",
       "apq11Shimmer           0\n",
       "ddaShimmer             0\n",
       "hnr                    0\n",
       "meanF0                 0\n",
       "stdevF0                0\n",
       "Class_Information      0\n",
       "dtype: int64"
      ]
     },
     "execution_count": 6,
     "metadata": {},
     "output_type": "execute_result"
    }
   ],
   "source": [
    "data1.isnull().sum()"
   ]
  },
  {
   "cell_type": "code",
   "execution_count": 7,
   "id": "bb84baa3",
   "metadata": {},
   "outputs": [],
   "source": [
    "df1=data1.pop('Class_Information')\n",
    "\n",
    "data1['Class_Information'] = df1"
   ]
  },
  {
   "cell_type": "code",
   "execution_count": 8,
   "id": "b7c77bdf",
   "metadata": {},
   "outputs": [],
   "source": [
    "features=data1.loc[:,data1.columns!='Class_Information'].values[:,0:]\n",
    "labels=data1.loc[:,'Class_Information'].values"
   ]
  },
  {
   "cell_type": "code",
   "execution_count": 9,
   "id": "e52e9492",
   "metadata": {},
   "outputs": [],
   "source": [
    "#scaler=MinMaxScaler((-1,1))\n",
    "#x=scaler.fit_transform(features)\n",
    "#y=labels\n",
    "\n",
    "x=features\n",
    "y=labels"
   ]
  },
  {
   "cell_type": "code",
   "execution_count": 10,
   "id": "e1ec0db7",
   "metadata": {},
   "outputs": [],
   "source": [
    "x_train,x_test,y_train,y_test=train_test_split(x, y, test_size=0.2, random_state=100)"
   ]
  },
  {
   "cell_type": "code",
   "execution_count": 11,
   "id": "7d098c81",
   "metadata": {},
   "outputs": [],
   "source": [
    "model = XGBClassifier(eval_metric='logloss', max_depth=10, min_child_weight=2,reg_lambda = 100, reg_alpha =4)"
   ]
  },
  {
   "cell_type": "code",
   "execution_count": 12,
   "id": "cc758784",
   "metadata": {},
   "outputs": [
    {
     "data": {
      "text/plain": [
       "XGBClassifier(base_score=0.5, booster='gbtree', callbacks=None,\n",
       "              colsample_bylevel=1, colsample_bynode=1, colsample_bytree=1,\n",
       "              early_stopping_rounds=None, enable_categorical=False,\n",
       "              eval_metric='logloss', gamma=0, gpu_id=-1,\n",
       "              grow_policy='depthwise', importance_type=None,\n",
       "              interaction_constraints='', learning_rate=0.300000012,\n",
       "              max_bin=256, max_cat_to_onehot=4, max_delta_step=0, max_depth=10,\n",
       "              max_leaves=0, min_child_weight=2, missing=nan,\n",
       "              monotone_constraints='()', n_estimators=100, n_jobs=0,\n",
       "              num_parallel_tree=1, predictor='auto', random_state=0,\n",
       "              reg_alpha=4, reg_lambda=100, ...)"
      ]
     },
     "execution_count": 12,
     "metadata": {},
     "output_type": "execute_result"
    }
   ],
   "source": [
    "model.fit(x_train, y_train)"
   ]
  },
  {
   "cell_type": "code",
   "execution_count": 13,
   "id": "1729f055",
   "metadata": {},
   "outputs": [],
   "source": [
    "# Finally, generate y_pred (predicted values for x_test)\n",
    "\n",
    "y_pred = model.predict(x_test)"
   ]
  },
  {
   "cell_type": "code",
   "execution_count": 14,
   "id": "32ff7a0e",
   "metadata": {},
   "outputs": [
    {
     "name": "stdout",
     "output_type": "stream",
     "text": [
      "71.63461538461539\n"
     ]
    }
   ],
   "source": [
    "print(accuracy_score(y_test,y_pred)*100)"
   ]
  },
  {
   "cell_type": "code",
   "execution_count": 15,
   "id": "eb4c28bc",
   "metadata": {},
   "outputs": [],
   "source": [
    "newinput=[[0.135,0.0000071,0.067,0.078,0.202,2.033,0.178,1.074,1.336,1.576,3.223,24.204,186.3,0.859]]"
   ]
  },
  {
   "cell_type": "code",
   "execution_count": 16,
   "id": "e59833d7",
   "metadata": {},
   "outputs": [
    {
     "data": {
      "text/plain": [
       "array([0])"
      ]
     },
     "execution_count": 16,
     "metadata": {},
     "output_type": "execute_result"
    }
   ],
   "source": [
    "scaler1 = MinMaxScaler((-1,1))\n",
    "nn = scaler1.fit_transform(newinput)\n",
    "output=model.predict(nn)\n",
    "output"
   ]
  },
  {
   "cell_type": "code",
   "execution_count": 17,
   "id": "287a87da",
   "metadata": {},
   "outputs": [
    {
     "name": "stdout",
     "output_type": "stream",
     "text": [
      "[[72 29]\n",
      " [30 77]]\n"
     ]
    },
    {
     "name": "stderr",
     "output_type": "stream",
     "text": [
      "c:\\new folder\\lib\\site-packages\\sklearn\\utils\\deprecation.py:87: FutureWarning: Function plot_confusion_matrix is deprecated; Function `plot_confusion_matrix` is deprecated in 1.0 and will be removed in 1.2. Use one of the class methods: ConfusionMatrixDisplay.from_predictions or ConfusionMatrixDisplay.from_estimator.\n",
      "  warnings.warn(msg, category=FutureWarning)\n"
     ]
    },
    {
     "data": {
      "image/png": "[encoded data removed]",
      "text/plain": [
       "<Figure size 432x288 with 2 Axes>"
      ]
     },
     "metadata": {
      "needs_background": "light"
     },
     "output_type": "display_data"
    }
   ],
   "source": [
    "from sklearn.metrics import confusion_matrix, plot_confusion_matrix, classification_report, roc_auc_score, plot_roc_curve, roc_curve\n",
    "print(confusion_matrix(y_test, y_pred))\n",
    "plot_confusion_matrix(model, x_test, y_test)\n",
    "plt.show()"
   ]
  },
  {
   "cell_type": "code",
   "execution_count": 18,
   "id": "b3fa00ca",
   "metadata": {},
   "outputs": [],
   "source": [
    "#for wave_file in glob.glob(r\"C:\\Users\\ASUS\\Downloads\\26_29_09_2017_KCL\\26-29_09_2017_KCL\\ReadText\\PD\\*.wav\"):\n",
    "sound = parselmouth.Sound(r\"C:\\Users\\ASUS\\Downloads\\Audio_Data_For_Validation-20230302T160451Z-001\\Audio_Data_For_Validation\\ReadText\\PD\\ID18_pd_4_3_3.wav\")"
   ]
  },
  {
   "cell_type": "code",
   "execution_count": 19,
   "id": "65dcc5c2",
   "metadata": {},
   "outputs": [],
   "source": [
    "def measurePitch(voiceID, f0min, f0max, unit):\n",
    "    sound = parselmouth.Sound(voiceID) # read the sound\n",
    "    pitch = call(sound, \"To Pitch\", 0.0, f0min, f0max) #create a praat pitch object\n",
    "    harmonicity = call(sound, \"To Harmonicity (cc)\", 0.01, 75, 0.1, 1.0)\n",
    "    pointProcess = call(sound, \"To PointProcess (periodic, cc)\", f0min, f0max)\n",
    "    \n",
    "    localJitter = (call(pointProcess, \"Get jitter (local)\", 0, 0, 0.0001, 0.02, 1.3))*100\n",
    "    localabsoluteJitter = call(pointProcess, \"Get jitter (local, absolute)\", 0, 0, 0.0001, 0.02, 1.3)\n",
    "    rapJitter = (call(pointProcess, \"Get jitter (rap)\", 0, 0, 0.0001, 0.02, 1.3))*100\n",
    "    ppq5Jitter = (call(pointProcess, \"Get jitter (ppq5)\", 0, 0, 0.0001, 0.02, 1.3))*100\n",
    "    ddpJitter = (call(pointProcess, \"Get jitter (ddp)\", 0, 0, 0.0001, 0.02, 1.3))*100\n",
    "    localShimmer =  (call([sound, pointProcess], \"Get shimmer (local)\", 0, 0, 0.0001, 0.02, 1.3, 1.6))*100\n",
    "    localdbShimmer = call([sound, pointProcess], \"Get shimmer (local_dB)\", 0, 0, 0.0001, 0.02, 1.3, 1.6)\n",
    "    apq3Shimmer = (call([sound, pointProcess], \"Get shimmer (apq3)\", 0, 0, 0.0001, 0.02, 1.3, 1.6))*100\n",
    "    aqpq5Shimmer = (call([sound, pointProcess], \"Get shimmer (apq5)\", 0, 0, 0.0001, 0.02, 1.3, 1.6))*100\n",
    "    apq11Shimmer =  (call([sound, pointProcess], \"Get shimmer (apq11)\", 0, 0, 0.0001, 0.02, 1.3, 1.6))*100\n",
    "    ddaShimmer = (call([sound, pointProcess], \"Get shimmer (dda)\", 0, 0, 0.0001, 0.02, 1.3, 1.6))*100\n",
    "    hnr = call(harmonicity, \"Get mean\", 0, 0)\n",
    "    meanF0 = call(pitch, \"Get mean\", 0, 0, unit) # get mean pitch\n",
    "    stdevF0 = call(pitch, \"Get standard deviation\", 0 ,0, unit) # get standard deviation\n",
    "\n",
    "    return localJitter, localabsoluteJitter, rapJitter, ppq5Jitter, ddpJitter, localShimmer, localdbShimmer, apq3Shimmer, aqpq5Shimmer, apq11Shimmer, ddaShimmer, hnr,meanF0, stdevF0 "
   ]
  },
  {
   "cell_type": "code",
   "execution_count": 20,
   "id": "2a780408",
   "metadata": {},
   "outputs": [],
   "source": [
    "\n",
    "(localJitter, localabsoluteJitter, rapJitter, ppq5Jitter, ddpJitter, localShimmer, localdbShimmer, apq3Shimmer, aqpq5Shimmer, apq11Shimmer, ddaShimmer, hnr,meanF0, stdevF0 ) = measurePitch(sound, 75, 500, \"Hertz\")"
   ]
  },
  {
   "cell_type": "code",
   "execution_count": 21,
   "id": "12f11825",
   "metadata": {},
   "outputs": [
    {
     "name": "stdout",
     "output_type": "stream",
     "text": [
      "3.0815888599808305 0.00022095675442377114 1.524537847243539 1.5256097629338132 4.573613541730618 11.060115147787505 1.0846940110961125 5.293528908153386 6.430329243631773 10.660451003058489 15.880586724460159 16.03189475079335 140.04466685862096 47.13026000854531\n"
     ]
    }
   ],
   "source": [
    "print(localJitter, localabsoluteJitter, rapJitter, ppq5Jitter, ddpJitter, localShimmer, localdbShimmer, apq3Shimmer, aqpq5Shimmer, apq11Shimmer, ddaShimmer, hnr, meanF0, stdevF0)"
   ]
  },
  {
   "cell_type": "code",
   "execution_count": 22,
   "id": "d629c81e",
   "metadata": {},
   "outputs": [],
   "source": [
    "newinput=[[localJitter, localabsoluteJitter, rapJitter, ppq5Jitter, ddpJitter, localShimmer, localdbShimmer, apq3Shimmer, aqpq5Shimmer, apq11Shimmer, ddaShimmer, hnr, meanF0, stdevF0]]"
   ]
  },
  {
   "cell_type": "code",
   "execution_count": 23,
   "id": "7275066b",
   "metadata": {},
   "outputs": [
    {
     "data": {
      "text/plain": [
       "array([0])"
      ]
     },
     "execution_count": 23,
     "metadata": {},
     "output_type": "execute_result"
    }
   ],
   "source": [
    "#scaler1 = MinMaxScaler((-1,1))\n",
    "#nn = scaler1.fit_transform(newinput)\n",
    "output = model.predict(newinput)\n",
    "output"
   ]
  },
  {
   "cell_type": "code",
   "execution_count": null,
   "id": "cad3d76b",
   "metadata": {},
   "outputs": [],
   "source": []
  },
  {
   "cell_type": "code",
   "execution_count": null,
   "id": "20a2b628",
   "metadata": {},
   "outputs": [],
   "source": []
  },
  {
   "cell_type": "code",
   "execution_count": 24,
   "id": "b6006797",
   "metadata": {},
   "outputs": [
    {
     "ename": "AttributeError",
     "evalue": "module 'parselmouth' has no attribute 'sound'",
     "output_type": "error",
     "traceback": [
      "\u001b[1;31m---------------------------------------------------------------------------\u001b[0m",
      "\u001b[1;31mAttributeError\u001b[0m                            Traceback (most recent call last)",
      "Input \u001b[1;32mIn [24]\u001b[0m, in \u001b[0;36m<cell line: 2>\u001b[1;34m()\u001b[0m\n\u001b[0;32m      1\u001b[0m \u001b[38;5;28;01mimport\u001b[39;00m \u001b[38;5;21;01mlibrosa\u001b[39;00m\n\u001b[1;32m----> 2\u001b[0m sound \u001b[38;5;241m=\u001b[39m parselmouth\u001b[38;5;241m.\u001b[39msound(voiceID)\n\u001b[0;32m      3\u001b[0m x, sr \u001b[38;5;241m=\u001b[39m librosa\u001b[38;5;241m.\u001b[39mload(sound)\n\u001b[0;32m      4\u001b[0m X \u001b[38;5;241m=\u001b[39m librosa\u001b[38;5;241m.\u001b[39mstft(x)\n",
      "\u001b[1;31mAttributeError\u001b[0m: module 'parselmouth' has no attribute 'sound'"
     ]
    }
   ],
   "source": [
    "import librosa\n",
    "sound = parselmouth.sound(voiceID)\n",
    "x, sr = librosa.load(sound)\n",
    "X = librosa.stft(x)\n",
    "Xdb = librosa.amplitude_to_db(abs(X))\n",
    "plt.figure(figsize = (10, 5))\n",
    "librosa.display.specshow(Xdb, sr = sr, x_axis = 'time', y_axis = 'hz')\n",
    "plt.colorbar()"
   ]
  },
  {
   "cell_type": "code",
   "execution_count": null,
   "id": "51d87416",
   "metadata": {},
   "outputs": [],
   "source": [
    "pip install librosa"
   ]
  },
  {
   "cell_type": "code",
   "execution_count": null,
   "id": "5e4e7490",
   "metadata": {},
   "outputs": [],
   "source": [
    "audio = r\"C:\\Users\\ASUS\\Downloads\\26_29_09_2017_KCL\\26-29_09_2017_KCL\\ReadText\\HC\\ID36_hc_0_0_0.wav\"\n",
    "x, sr = librosa.load(audio)\n",
    "X = librosa.stft(x)\n",
    "Xdb = librosa.amplitude_to_db(abs(X))\n",
    "plt.figure(figsize = (10, 5))\n",
    "librosa.display.specshow(Xdb, sr = sr, x_axis = 'time', y_axis = 'hz')\n",
    "plt.colorbar()"
   ]
  },
  {
   "cell_type": "code",
   "execution_count": null,
   "id": "7423c244",
   "metadata": {},
   "outputs": [],
   "source": []
  }
 ],
 "metadata": {
  "kernelspec": {
   "display_name": "Python 3 (ipykernel)",
   "language": "python",
   "name": "python3"
  },
  "language_info": {
   "codemirror_mode": {
    "name": "ipython",
    "version": 3
   },
   "file_extension": ".py",
   "mimetype": "text/x-python",
   "name": "python",
   "nbconvert_exporter": "python",
   "pygments_lexer": "ipython3",
   "version": "3.9.5"
  }
 },
 "nbformat": 4,
 "nbformat_minor": 5
}
